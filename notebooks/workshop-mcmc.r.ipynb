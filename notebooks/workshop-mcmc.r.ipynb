{
 "cells": [
  {
   "cell_type": "markdown",
   "id": "unusual-disposal",
   "metadata": {},
   "source": [
    "# Workshop MCMC"
   ]
  },
  {
   "cell_type": "code",
   "execution_count": null,
   "id": "solved-configuration",
   "metadata": {},
   "outputs": [],
   "source": []
  }
 ],
 "metadata": {
  "kernelspec": {
   "display_name": "R",
   "language": "R",
   "name": "ir"
  },
  "language_info": {
   "codemirror_mode": "r",
   "file_extension": ".r",
   "mimetype": "text/x-r-source",
   "name": "R",
   "pygments_lexer": "r",
   "version": "4.0.3"
  }
 },
 "nbformat": 4,
 "nbformat_minor": 5
}
